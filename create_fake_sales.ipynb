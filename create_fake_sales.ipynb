{
 "cells": [
  {
   "cell_type": "markdown",
   "metadata": {
    "application/vnd.databricks.v1+cell": {
     "cellMetadata": {
      "byteLimit": 2048000,
      "rowLimit": 10000
     },
     "inputWidgets": {},
     "nuid": "0ec2a8ff-7708-424b-8f1d-3ddf358d5df7",
     "showTitle": false,
     "title": ""
    }
   },
   "source": [
    "# Create dummy sales data"
   ]
  },
  {
   "cell_type": "code",
   "execution_count": null,
   "metadata": {
    "application/vnd.databricks.v1+cell": {
     "cellMetadata": {
      "byteLimit": 2048000,
      "rowLimit": 10000
     },
     "inputWidgets": {},
     "nuid": "ce9dd2af-fd60-4876-9f7b-02df9cc5f551",
     "showTitle": false,
     "title": ""
    }
   },
   "outputs": [],
   "source": [
    "import random\n",
    "from datetime import datetime\n",
    "%pip install faker\n",
    "from faker import Faker\n",
    "from sqlalchemy import create_engine, Column, Integer, String, Numeric, DateTime, ForeignKey\n",
    "from sqlalchemy.orm import sessionmaker, relationship\n",
    "from sqlalchemy.ext.declarative import declarative_base\n",
    "\n",
    "host = ''\n",
    "username = 'postgres'\n",
    "password = ''\n",
    "database = 'sales_db'\n",
    "\n",
    "# Database configuration\n",
    "DATABASE_URL = f'postgresql://{username}:{password}@{host}:5432/{database}'\n",
    "\n",
    "# SqlAlchemy config\n",
    "engine = create_engine(DATABASE_URL)\n",
    "Session = sessionmaker(bind=engine)\n",
    "session = Session()\n",
    "Base = declarative_base()\n",
    "fake = Faker()\n",
    "\n",
    "# Models\n",
    "class Customer(Base):\n",
    "    __tablename__ = 'customers'\n",
    "    customer_id = Column(Integer, primary_key=True)\n",
    "    first_name = Column(String(50), nullable=False)\n",
    "    last_name = Column(String(50), nullable=False)\n",
    "    email = Column(String(100), unique=True, nullable=False)\n",
    "    phone = Column(String(20))\n",
    "    created_at = Column(DateTime, default=datetime.utcnow)\n",
    "    modified_at = Column(DateTime, default=datetime.utcnow, onupdate=datetime.utcnow)\n",
    "\n",
    "class Product(Base):\n",
    "    __tablename__ = 'products'\n",
    "    product_id = Column(Integer, primary_key=True)\n",
    "    product_name = Column(String(100), nullable=False)\n",
    "    description = Column(String)\n",
    "    price = Column(Numeric(10, 2), nullable=False)\n",
    "    created_at = Column(DateTime, default=datetime.utcnow)\n",
    "    modified_at = Column(DateTime, default=datetime.utcnow, onupdate=datetime.utcnow)\n",
    "\n",
    "class Sale(Base):\n",
    "    __tablename__ = 'sales'\n",
    "    sale_id = Column(Integer, primary_key=True)\n",
    "    customer_id = Column(Integer, ForeignKey('customers.customer_id'), nullable=False)\n",
    "    product_id = Column(Integer, ForeignKey('products.product_id'), nullable=False)\n",
    "    quantity = Column(Integer, nullable=False)\n",
    "    sale_date = Column(DateTime, default=datetime.utcnow)\n",
    "    created_at = Column(DateTime, default=datetime.utcnow)\n",
    "    modified_at = Column(DateTime, default=datetime.utcnow, onupdate=datetime.utcnow)\n",
    "\n",
    "    customer = relationship('Customer')\n",
    "    product = relationship('Product')\n",
    "\n",
    "# Create all the tables if not exists\n",
    "Base.metadata.create_all(engine)\n",
    "\n",
    "# Fake data for customers\n",
    "def create_dummy_customers(n):\n",
    "    customers = []\n",
    "    for _ in range(n):\n",
    "        customer = Customer(\n",
    "            first_name=fake.first_name(),\n",
    "            last_name=fake.last_name(),\n",
    "            email=fake.unique.email(),\n",
    "            phone=fake.phone_number()[:20]\n",
    "        )\n",
    "        customers.append(customer)\n",
    "    session.add_all(customers)\n",
    "    session.commit()\n",
    "\n",
    "# Fake data for products\n",
    "def create_dummy_products(n):\n",
    "    products = []\n",
    "    for _ in range(n):\n",
    "        product = Product(\n",
    "            product_name=fake.word(),\n",
    "            description=fake.text(),\n",
    "            price=round(random.uniform(10, 1000), 2)\n",
    "        )\n",
    "        products.append(product)\n",
    "    session.add_all(products)\n",
    "    session.commit()\n",
    "\n",
    "# Fake data for sales\n",
    "def create_dummy_sales(n):\n",
    "    customer_ids = [customer.customer_id for customer in session.query(Customer).all()]\n",
    "    product_ids = [product.product_id for product in session.query(Product).all()]\n",
    "    \n",
    "    sales = []\n",
    "    for _ in range(n):\n",
    "        sale = Sale(\n",
    "            customer_id=random.choice(customer_ids),\n",
    "            product_id=random.choice(product_ids),\n",
    "            quantity=random.randint(1, 10)\n",
    "        )\n",
    "        sales.append(sale)\n",
    "    session.add_all(sales)\n",
    "    session.commit()\n",
    "\n",
    "\n",
    "#create_dummy_customers(20)\n",
    "#create_dummy_products(10)\n",
    "create_dummy_sales(50)\n",
    "\n",
    "print(\"Success data creation\")\n"
   ]
  }
 ],
 "metadata": {
  "application/vnd.databricks.v1+notebook": {
   "dashboards": [],
   "environmentMetadata": null,
   "language": "python",
   "notebookMetadata": {
    "pythonIndentUnit": 4
   },
   "notebookName": "Create dummy sales data",
   "widgets": {}
  },
  "language_info": {
   "name": "python"
  }
 },
 "nbformat": 4,
 "nbformat_minor": 0
}
